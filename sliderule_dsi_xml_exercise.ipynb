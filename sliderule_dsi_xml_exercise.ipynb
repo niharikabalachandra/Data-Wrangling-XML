{
 "cells": [
  {
   "cell_type": "markdown",
   "metadata": {},
   "source": [
    "# XML example and exercise\n",
    "****\n",
    "+ study examples of accessing nodes in XML tree structure  \n",
    "+ work on exercise to be completed and submitted\n",
    "****\n",
    "+ reference: https://docs.python.org/2.7/library/xml.etree.elementtree.html\n",
    "+ data source: http://www.dbis.informatik.uni-goettingen.de/Mondial\n",
    "****"
   ]
  },
  {
   "cell_type": "code",
   "execution_count": 15,
   "metadata": {
    "collapsed": true
   },
   "outputs": [],
   "source": [
    "from xml.etree import ElementTree as ET"
   ]
  },
  {
   "cell_type": "markdown",
   "metadata": {},
   "source": [
    "## XML example\n",
    "\n",
    "+ for details about tree traversal and iterators, see https://docs.python.org/2.7/library/xml.etree.elementtree.html"
   ]
  },
  {
   "cell_type": "code",
   "execution_count": 16,
   "metadata": {
    "collapsed": true
   },
   "outputs": [],
   "source": [
    "document_tree = ET.parse( './data/mondial_database_less.xml' )"
   ]
  },
  {
   "cell_type": "code",
   "execution_count": 17,
   "metadata": {
    "collapsed": false
   },
   "outputs": [
    {
     "name": "stdout",
     "output_type": "stream",
     "text": [
      "Albania\n",
      "Greece\n",
      "Macedonia\n",
      "Serbia\n",
      "Montenegro\n",
      "Kosovo\n",
      "Andorra\n"
     ]
    }
   ],
   "source": [
    "# print names of all countries\n",
    "for child in document_tree.getroot():\n",
    "    print(child.find('name').text)"
   ]
  },
  {
   "cell_type": "code",
   "execution_count": 18,
   "metadata": {
    "collapsed": false
   },
   "outputs": [
    {
     "name": "stdout",
     "output_type": "stream",
     "text": [
      "* Albania:\n",
      "Tirana, Shkodër, Durrës, Vlorë, Elbasan, Korçë\n",
      "* Greece:\n",
      "Komotini, Kavala, Athina, Peiraias, Peristeri, Acharnes, Patra, Kozani, Kerkyra, Ioannina, Thessaloniki, Iraklio, Chania, Ermoupoli, Rhodes, Tripoli, Lamia, Chalkida, Larissa, Volos, Mytilini, Karyes\n",
      "* Macedonia:\n",
      "Skopje, Kumanovo\n",
      "* Serbia:\n",
      "Beograd, Novi Sad, Niš\n",
      "* Montenegro:\n",
      "Podgorica\n",
      "* Kosovo:\n",
      "Prishtine\n",
      "* Andorra:\n",
      "Andorra la Vella\n"
     ]
    }
   ],
   "source": [
    "# print names of all countries and their cities\n",
    "for element in document_tree.iterfind('country'):\n",
    "    print( '* ' + element.find('name').text + ':',)\n",
    "    capitals_string = ''\n",
    "    for subelement in element.iter('city'):\n",
    "        capitals_string += subelement.find('name').text + ', '\n",
    "    print(capitals_string[:-2])"
   ]
  },
  {
   "cell_type": "markdown",
   "metadata": {},
   "source": [
    "****\n",
    "## XML exercise\n",
    "\n",
    "Using data in 'data/mondial_database.xml', the examples above, and refering to https://docs.python.org/2.7/library/xml.etree.elementtree.html, find\n",
    "\n",
    "1. 10 countries with the lowest infant mortality rates\n",
    "2. 10 cities with the largest population\n",
    "3. 10 ethnic groups with the largest overall populations (sum of best/latest estimates over all countries)\n",
    "4. name and country of a) longest river, b) largest lake and c) airport at highest elevation"
   ]
  },
  {
   "cell_type": "code",
   "execution_count": 19,
   "metadata": {
    "collapsed": true
   },
   "outputs": [],
   "source": [
    "document = ET.parse( './data/mondial_database.xml' )"
   ]
  },
  {
   "cell_type": "markdown",
   "metadata": {},
   "source": [
    "# 10 countries with the lowest infant mortality rates"
   ]
  },
  {
   "cell_type": "code",
   "execution_count": 32,
   "metadata": {
    "collapsed": false
   },
   "outputs": [],
   "source": [
    "infantMortalityRates={}\n",
    "for element in document.iterfind('country'):\n",
    "    for subelement in element.iter('infant_mortality'):\n",
    "        infantMortalityRates[element.find('name').text]= float(subelement.text)\n",
    "        "
   ]
  },
  {
   "cell_type": "code",
   "execution_count": 33,
   "metadata": {
    "collapsed": true
   },
   "outputs": [],
   "source": [
    "infantMortalityRatesSorted= sorted(infantMortalityRates.items(), key=lambda x: x[1])"
   ]
  },
  {
   "cell_type": "code",
   "execution_count": 34,
   "metadata": {
    "collapsed": false
   },
   "outputs": [
    {
     "data": {
      "text/plain": [
       "[('Monaco', 1.81),\n",
       " ('Japan', 2.13),\n",
       " ('Norway', 2.48),\n",
       " ('Bermuda', 2.48),\n",
       " ('Singapore', 2.53),\n",
       " ('Sweden', 2.6),\n",
       " ('Czech Republic', 2.63),\n",
       " ('Hong Kong', 2.73),\n",
       " ('Macao', 3.13),\n",
       " ('Iceland', 3.15)]"
      ]
     },
     "execution_count": 34,
     "metadata": {},
     "output_type": "execute_result"
    }
   ],
   "source": [
    "infantMortalityRatesSorted[0: 10] # 10 countries with the lowest infant mortality rates"
   ]
  },
  {
   "cell_type": "markdown",
   "metadata": {
    "collapsed": true
   },
   "source": [
    "# 10 cities with the largest population"
   ]
  },
  {
   "cell_type": "code",
   "execution_count": 35,
   "metadata": {
    "collapsed": false
   },
   "outputs": [],
   "source": [
    "citiesLargestPopulation={}\n",
    "        \n",
    "for element in document.iterfind('country'):\n",
    "    for subelement in element.iter('city'):\n",
    "        for subsubelement in subelement.iter('population'):\n",
    "            #print(subsubelement.text)\n",
    "            citiesLargestPopulation[subelement.find('name').text]=int(subsubelement.text)\n"
   ]
  },
  {
   "cell_type": "code",
   "execution_count": 36,
   "metadata": {
    "collapsed": true
   },
   "outputs": [],
   "source": [
    "citiesLargestPopulationSorted= sorted(citiesLargestPopulation.items(), key=lambda x: x[1], reverse=True) "
   ]
  },
  {
   "cell_type": "code",
   "execution_count": 37,
   "metadata": {
    "collapsed": false
   },
   "outputs": [
    {
     "data": {
      "text/plain": [
       "[('Shanghai', 22315474),\n",
       " ('Istanbul', 13710512),\n",
       " ('Mumbai', 12442373),\n",
       " ('Moskva', 11979529),\n",
       " ('Beijing', 11716620),\n",
       " ('São Paulo', 11152344),\n",
       " ('Tianjin', 11090314),\n",
       " ('Guangzhou', 11071424),\n",
       " ('Delhi', 11034555),\n",
       " ('Shenzhen', 10358381)]"
      ]
     },
     "execution_count": 37,
     "metadata": {},
     "output_type": "execute_result"
    }
   ],
   "source": [
    "citiesLargestPopulationSorted[0:10]  #10 cities with the largest population"
   ]
  },
  {
   "cell_type": "markdown",
   "metadata": {
    "collapsed": true
   },
   "source": [
    "# 10 ethnic groups with the largest overall populations (sum of best/ latest estimates over all countries)"
   ]
  },
  {
   "cell_type": "code",
   "execution_count": 38,
   "metadata": {
    "collapsed": true
   },
   "outputs": [],
   "source": [
    "ethnicGroupLargestPopulation={}\n",
    "ethnicGroupLargestPopulationPercent={} \n",
    "ethnicGroupLargestPopulationNet={}\n",
    "ethnic_group=[]\n",
    "population=[]\n",
    "for element in document.iterfind('country'):\n",
    "    for subelement in element.iter('ethnicgroup'):\n",
    "        a=element.find('ethnicgroup').attrib\n",
    "        b=float(element.find('population[last()]').text)\n",
    "        ethnicGroupLargestPopulationPercent[element.find('name').text]= a\n",
    "        ethnicGroupLargestPopulation[element.find('name').text]= b\n",
    "        d=element.find('ethnicgroup[1]').text\n",
    "        c=b * (float(a['percentage'])/100)\n",
    "        ethnic_group.append(d)\n",
    "        population.append(c)\n",
    "        ethnicGroupLargestPopulationNet[element.find('name').text]= c\n"
   ]
  },
  {
   "cell_type": "code",
   "execution_count": 44,
   "metadata": {
    "collapsed": false
   },
   "outputs": [
    {
     "data": {
      "text/html": [
       "<div>\n",
       "<table border=\"1\" class=\"dataframe\">\n",
       "  <thead>\n",
       "    <tr style=\"text-align: right;\">\n",
       "      <th></th>\n",
       "      <th>0</th>\n",
       "      <th>1</th>\n",
       "    </tr>\n",
       "  </thead>\n",
       "  <tbody>\n",
       "    <tr>\n",
       "      <th>0</th>\n",
       "      <td>Han Chinese</td>\n",
       "      <td>1.245059e+09</td>\n",
       "    </tr>\n",
       "    <tr>\n",
       "      <th>1</th>\n",
       "      <td>Dravidian</td>\n",
       "      <td>3.027137e+08</td>\n",
       "    </tr>\n",
       "    <tr>\n",
       "      <th>2</th>\n",
       "      <td>European</td>\n",
       "      <td>2.549581e+08</td>\n",
       "    </tr>\n",
       "    <tr>\n",
       "      <th>3</th>\n",
       "      <td>African</td>\n",
       "      <td>1.626516e+08</td>\n",
       "    </tr>\n",
       "    <tr>\n",
       "      <th>4</th>\n",
       "      <td>Bengali</td>\n",
       "      <td>1.467769e+08</td>\n",
       "    </tr>\n",
       "    <tr>\n",
       "      <th>5</th>\n",
       "      <td>Japanese</td>\n",
       "      <td>1.265342e+08</td>\n",
       "    </tr>\n",
       "    <tr>\n",
       "      <th>6</th>\n",
       "      <td>Russian</td>\n",
       "      <td>1.146462e+08</td>\n",
       "    </tr>\n",
       "    <tr>\n",
       "      <th>7</th>\n",
       "      <td>Javanese</td>\n",
       "      <td>1.134560e+08</td>\n",
       "    </tr>\n",
       "    <tr>\n",
       "      <th>8</th>\n",
       "      <td>European</td>\n",
       "      <td>1.088867e+08</td>\n",
       "    </tr>\n",
       "  </tbody>\n",
       "</table>\n",
       "</div>"
      ],
      "text/plain": [
       "             0             1\n",
       "0  Han Chinese  1.245059e+09\n",
       "1    Dravidian  3.027137e+08\n",
       "2     European  2.549581e+08\n",
       "3      African  1.626516e+08\n",
       "4      Bengali  1.467769e+08\n",
       "5     Japanese  1.265342e+08\n",
       "6      Russian  1.146462e+08\n",
       "7     Javanese  1.134560e+08\n",
       "8     European  1.088867e+08"
      ]
     },
     "execution_count": 44,
     "metadata": {},
     "output_type": "execute_result"
    }
   ],
   "source": [
    "import pandas as pd\n",
    "\n",
    "ethnic_group= pd.Series(ethnic_group)\n",
    "population= pd.Series(population)\n",
    "ethnic_group\n",
    "population\n",
    "\n",
    "new= pd.concat([ethnic_group, population], axis=1 )\n",
    "new1= new.drop_duplicates()\n",
    "new2=new1.sort_values(by=1, ascending=False)\n",
    "new3= new2.reset_index()\n",
    "del new3['index']\n",
    "new3.iloc[0:9]"
   ]
  },
  {
   "cell_type": "code",
   "execution_count": 46,
   "metadata": {
    "collapsed": false
   },
   "outputs": [],
   "source": [
    "g= list(new3[0])\n",
    "g=set(g)\n",
    "h={}\n",
    "result = new3.sort_values(by=0)\n",
    "\n",
    "for name in g:\n",
    "    sum=0\n",
    "    for index, row in result.iterrows():\n",
    "        if row[0] == name:\n",
    "            sum=sum+ row[1]\n",
    "        h[name]=sum\n",
    "\n",
    "ELP= sorted(h.items(), key=lambda x: x[1], reverse=True)\n"
   ]
  },
  {
   "cell_type": "code",
   "execution_count": 47,
   "metadata": {
    "collapsed": false
   },
   "outputs": [
    {
     "data": {
      "text/plain": [
       "[('Han Chinese', 1245058800.0),\n",
       " ('European', 441003291.0636),\n",
       " ('Dravidian', 302713744.25),\n",
       " ('African', 198605033.964),\n",
       " ('Bengali', 146776916.72),\n",
       " ('Mestizo', 141972918.46699998),\n",
       " ('Japanese', 126534212.00000001),\n",
       " ('Russian', 114646210.938),\n",
       " ('Javanese', 113456006.10000001),\n",
       " ('German', 79192720.332)]"
      ]
     },
     "execution_count": 47,
     "metadata": {},
     "output_type": "execute_result"
    }
   ],
   "source": [
    "ELP[0:10] # 10 ethnic groups with the largest overall populations "
   ]
  },
  {
   "cell_type": "markdown",
   "metadata": {},
   "source": [
    "# name and country of a) longest river, b) largest lake and c) airport at highest elevation"
   ]
  },
  {
   "cell_type": "markdown",
   "metadata": {},
   "source": [
    "## a) longest river"
   ]
  },
  {
   "cell_type": "code",
   "execution_count": 50,
   "metadata": {
    "collapsed": false,
    "scrolled": true
   },
   "outputs": [
    {
     "data": {
      "text/html": [
       "<div>\n",
       "<table border=\"1\" class=\"dataframe\">\n",
       "  <thead>\n",
       "    <tr style=\"text-align: right;\">\n",
       "      <th></th>\n",
       "      <th>0</th>\n",
       "      <th>1</th>\n",
       "      <th>2</th>\n",
       "    </tr>\n",
       "  </thead>\n",
       "  <tbody>\n",
       "    <tr>\n",
       "      <th>0</th>\n",
       "      <td>Thjorsa</td>\n",
       "      <td>IS</td>\n",
       "      <td>230.0</td>\n",
       "    </tr>\n",
       "    <tr>\n",
       "      <th>1</th>\n",
       "      <td>Joekulsa a Fjoellum</td>\n",
       "      <td>IS</td>\n",
       "      <td>206.0</td>\n",
       "    </tr>\n",
       "    <tr>\n",
       "      <th>2</th>\n",
       "      <td>Glomma</td>\n",
       "      <td>N</td>\n",
       "      <td>604.0</td>\n",
       "    </tr>\n",
       "    <tr>\n",
       "      <th>3</th>\n",
       "      <td>Lagen</td>\n",
       "      <td>N</td>\n",
       "      <td>322.0</td>\n",
       "    </tr>\n",
       "    <tr>\n",
       "      <th>4</th>\n",
       "      <td>Goetaaelv</td>\n",
       "      <td>S</td>\n",
       "      <td>93.0</td>\n",
       "    </tr>\n",
       "    <tr>\n",
       "      <th>5</th>\n",
       "      <td>Klaraelv</td>\n",
       "      <td>N S</td>\n",
       "      <td>460.0</td>\n",
       "    </tr>\n",
       "    <tr>\n",
       "      <th>6</th>\n",
       "      <td>Umeaelv</td>\n",
       "      <td>S</td>\n",
       "      <td>470.0</td>\n",
       "    </tr>\n",
       "    <tr>\n",
       "      <th>7</th>\n",
       "      <td>Dalaelv</td>\n",
       "      <td>S</td>\n",
       "      <td>520.0</td>\n",
       "    </tr>\n",
       "    <tr>\n",
       "      <th>8</th>\n",
       "      <td>Vaesterdalaelv</td>\n",
       "      <td>S</td>\n",
       "      <td>320.0</td>\n",
       "    </tr>\n",
       "    <tr>\n",
       "      <th>9</th>\n",
       "      <td>Oesterdalaelv</td>\n",
       "      <td>S</td>\n",
       "      <td>241.0</td>\n",
       "    </tr>\n",
       "  </tbody>\n",
       "</table>\n",
       "</div>"
      ],
      "text/plain": [
       "                     0    1      2\n",
       "0              Thjorsa   IS  230.0\n",
       "1  Joekulsa a Fjoellum   IS  206.0\n",
       "2               Glomma    N  604.0\n",
       "3                Lagen    N  322.0\n",
       "4            Goetaaelv    S   93.0\n",
       "5             Klaraelv  N S  460.0\n",
       "6              Umeaelv    S  470.0\n",
       "7              Dalaelv    S  520.0\n",
       "8       Vaesterdalaelv    S  320.0\n",
       "9        Oesterdalaelv    S  241.0"
      ]
     },
     "execution_count": 50,
     "metadata": {},
     "output_type": "execute_result"
    }
   ],
   "source": [
    "import pandas as pd\n",
    "name=[]\n",
    "country=[]\n",
    "length=[]\n",
    "for element in document.iterfind('river'):\n",
    "    name.append(element.find('name').text)\n",
    "    temp= element.attrib\n",
    "    country.append(temp['country'])\n",
    "    for subelement in element.iter('length'):\n",
    "        length.append(float(subelement.text))\n",
    "#name\n",
    "#country\n",
    "#area\n",
    "name= pd.Series(name)\n",
    "country= pd.Series(country)\n",
    "length= pd.Series(length)\n",
    "\n",
    "river= pd.concat([name, country, length], axis=1 )\n",
    "river.iloc[0:10]"
   ]
  },
  {
   "cell_type": "code",
   "execution_count": 52,
   "metadata": {
    "collapsed": false
   },
   "outputs": [
    {
     "data": {
      "text/html": [
       "<div>\n",
       "<table border=\"1\" class=\"dataframe\">\n",
       "  <thead>\n",
       "    <tr style=\"text-align: right;\">\n",
       "      <th></th>\n",
       "      <th>0</th>\n",
       "      <th>1</th>\n",
       "      <th>2</th>\n",
       "    </tr>\n",
       "  </thead>\n",
       "  <tbody>\n",
       "    <tr>\n",
       "      <th>0</th>\n",
       "      <td>Amazonas</td>\n",
       "      <td>CO BR PE</td>\n",
       "      <td>6448.0</td>\n",
       "    </tr>\n",
       "    <tr>\n",
       "      <th>1</th>\n",
       "      <td>Jangtse</td>\n",
       "      <td>CN</td>\n",
       "      <td>6380.0</td>\n",
       "    </tr>\n",
       "    <tr>\n",
       "      <th>2</th>\n",
       "      <td>Hwangho</td>\n",
       "      <td>CN</td>\n",
       "      <td>4845.0</td>\n",
       "    </tr>\n",
       "    <tr>\n",
       "      <th>3</th>\n",
       "      <td>Lena</td>\n",
       "      <td>R</td>\n",
       "      <td>4400.0</td>\n",
       "    </tr>\n",
       "    <tr>\n",
       "      <th>4</th>\n",
       "      <td>Akagera</td>\n",
       "      <td>EAT RWA EAU</td>\n",
       "      <td>4374.0</td>\n",
       "    </tr>\n",
       "    <tr>\n",
       "      <th>5</th>\n",
       "      <td>Mekong</td>\n",
       "      <td>CN LAO THA K VN</td>\n",
       "      <td>4350.0</td>\n",
       "    </tr>\n",
       "    <tr>\n",
       "      <th>6</th>\n",
       "      <td>Irtysch</td>\n",
       "      <td>R KAZ CN</td>\n",
       "      <td>4248.0</td>\n",
       "    </tr>\n",
       "    <tr>\n",
       "      <th>7</th>\n",
       "      <td>Niger</td>\n",
       "      <td>RMM RN WAN RG</td>\n",
       "      <td>4184.0</td>\n",
       "    </tr>\n",
       "    <tr>\n",
       "      <th>8</th>\n",
       "      <td>Missouri</td>\n",
       "      <td>USA</td>\n",
       "      <td>4130.0</td>\n",
       "    </tr>\n",
       "    <tr>\n",
       "      <th>9</th>\n",
       "      <td>Jenissej</td>\n",
       "      <td>R</td>\n",
       "      <td>4092.0</td>\n",
       "    </tr>\n",
       "  </tbody>\n",
       "</table>\n",
       "</div>"
      ],
      "text/plain": [
       "          0                1       2\n",
       "0  Amazonas         CO BR PE  6448.0\n",
       "1   Jangtse               CN  6380.0\n",
       "2   Hwangho               CN  4845.0\n",
       "3      Lena                R  4400.0\n",
       "4   Akagera      EAT RWA EAU  4374.0\n",
       "5    Mekong  CN LAO THA K VN  4350.0\n",
       "6   Irtysch         R KAZ CN  4248.0\n",
       "7     Niger    RMM RN WAN RG  4184.0\n",
       "8  Missouri              USA  4130.0\n",
       "9  Jenissej                R  4092.0"
      ]
     },
     "execution_count": 52,
     "metadata": {},
     "output_type": "execute_result"
    }
   ],
   "source": [
    "riverSorted= river.fillna(0)\n",
    "riverSorted=riverSorted.sort_values(by=2, ascending=False)\n",
    "riverSorted\n",
    "\n",
    "riverSorted= riverSorted.reset_index()\n",
    "del riverSorted['index']\n",
    "riverSorted.iloc[0:10]"
   ]
  },
  {
   "cell_type": "code",
   "execution_count": 53,
   "metadata": {
    "collapsed": false
   },
   "outputs": [
    {
     "data": {
      "text/html": [
       "<div>\n",
       "<table border=\"1\" class=\"dataframe\">\n",
       "  <thead>\n",
       "    <tr style=\"text-align: right;\">\n",
       "      <th></th>\n",
       "      <th>0</th>\n",
       "      <th>1</th>\n",
       "    </tr>\n",
       "  </thead>\n",
       "  <tbody>\n",
       "    <tr>\n",
       "      <th>0</th>\n",
       "      <td>AL</td>\n",
       "      <td>Albania</td>\n",
       "    </tr>\n",
       "    <tr>\n",
       "      <th>1</th>\n",
       "      <td>GR</td>\n",
       "      <td>Greece</td>\n",
       "    </tr>\n",
       "    <tr>\n",
       "      <th>2</th>\n",
       "      <td>MK</td>\n",
       "      <td>Macedonia</td>\n",
       "    </tr>\n",
       "    <tr>\n",
       "      <th>3</th>\n",
       "      <td>SRB</td>\n",
       "      <td>Serbia</td>\n",
       "    </tr>\n",
       "    <tr>\n",
       "      <th>4</th>\n",
       "      <td>MNE</td>\n",
       "      <td>Montenegro</td>\n",
       "    </tr>\n",
       "    <tr>\n",
       "      <th>5</th>\n",
       "      <td>KOS</td>\n",
       "      <td>Kosovo</td>\n",
       "    </tr>\n",
       "    <tr>\n",
       "      <th>6</th>\n",
       "      <td>AND</td>\n",
       "      <td>Andorra</td>\n",
       "    </tr>\n",
       "    <tr>\n",
       "      <th>7</th>\n",
       "      <td>F</td>\n",
       "      <td>France</td>\n",
       "    </tr>\n",
       "    <tr>\n",
       "      <th>8</th>\n",
       "      <td>E</td>\n",
       "      <td>Spain</td>\n",
       "    </tr>\n",
       "    <tr>\n",
       "      <th>9</th>\n",
       "      <td>A</td>\n",
       "      <td>Austria</td>\n",
       "    </tr>\n",
       "  </tbody>\n",
       "</table>\n",
       "</div>"
      ],
      "text/plain": [
       "     0           1\n",
       "0   AL     Albania\n",
       "1   GR      Greece\n",
       "2   MK   Macedonia\n",
       "3  SRB      Serbia\n",
       "4  MNE  Montenegro\n",
       "5  KOS      Kosovo\n",
       "6  AND     Andorra\n",
       "7    F      France\n",
       "8    E       Spain\n",
       "9    A     Austria"
      ]
     },
     "execution_count": 53,
     "metadata": {},
     "output_type": "execute_result"
    }
   ],
   "source": [
    "countryList=[]\n",
    "countryCode=[]\n",
    "for element in document.iterfind('country'):\n",
    "    temp= element.attrib\n",
    "    countryCode.append(temp['car_code'])\n",
    "    countryList.append(element.find('name').text)\n",
    "    \n",
    "countryList\n",
    "countryCode\n",
    "\n",
    "countryList= pd.Series(countryList)\n",
    "countryCode= pd.Series(countryCode)\n",
    "CountryTally= pd.concat([countryCode, countryList], axis=1 )\n",
    "CountryTally.iloc[0:10]"
   ]
  },
  {
   "cell_type": "code",
   "execution_count": 54,
   "metadata": {
    "collapsed": false,
    "scrolled": true
   },
   "outputs": [
    {
     "data": {
      "text/html": [
       "<div>\n",
       "<table border=\"1\" class=\"dataframe\">\n",
       "  <thead>\n",
       "    <tr style=\"text-align: right;\">\n",
       "      <th></th>\n",
       "      <th>River</th>\n",
       "      <th>Length</th>\n",
       "      <th>Country Code</th>\n",
       "      <th>Country</th>\n",
       "    </tr>\n",
       "  </thead>\n",
       "  <tbody>\n",
       "    <tr>\n",
       "      <th>0</th>\n",
       "      <td>Amazonas</td>\n",
       "      <td>6448.0</td>\n",
       "      <td>CO BR PE</td>\n",
       "      <td>Multiple</td>\n",
       "    </tr>\n",
       "    <tr>\n",
       "      <th>1</th>\n",
       "      <td>Jangtse</td>\n",
       "      <td>6380.0</td>\n",
       "      <td>CN</td>\n",
       "      <td>China</td>\n",
       "    </tr>\n",
       "    <tr>\n",
       "      <th>2</th>\n",
       "      <td>Hwangho</td>\n",
       "      <td>4845.0</td>\n",
       "      <td>CN</td>\n",
       "      <td>China</td>\n",
       "    </tr>\n",
       "    <tr>\n",
       "      <th>3</th>\n",
       "      <td>Lena</td>\n",
       "      <td>4400.0</td>\n",
       "      <td>R</td>\n",
       "      <td>Russia</td>\n",
       "    </tr>\n",
       "    <tr>\n",
       "      <th>4</th>\n",
       "      <td>Akagera</td>\n",
       "      <td>4374.0</td>\n",
       "      <td>EAT RWA EAU</td>\n",
       "      <td>Multiple</td>\n",
       "    </tr>\n",
       "    <tr>\n",
       "      <th>5</th>\n",
       "      <td>Mekong</td>\n",
       "      <td>4350.0</td>\n",
       "      <td>CN LAO THA K VN</td>\n",
       "      <td>Multiple</td>\n",
       "    </tr>\n",
       "    <tr>\n",
       "      <th>6</th>\n",
       "      <td>Irtysch</td>\n",
       "      <td>4248.0</td>\n",
       "      <td>R KAZ CN</td>\n",
       "      <td>Multiple</td>\n",
       "    </tr>\n",
       "    <tr>\n",
       "      <th>7</th>\n",
       "      <td>Niger</td>\n",
       "      <td>4184.0</td>\n",
       "      <td>RMM RN WAN RG</td>\n",
       "      <td>Multiple</td>\n",
       "    </tr>\n",
       "    <tr>\n",
       "      <th>8</th>\n",
       "      <td>Missouri</td>\n",
       "      <td>4130.0</td>\n",
       "      <td>USA</td>\n",
       "      <td>United States</td>\n",
       "    </tr>\n",
       "    <tr>\n",
       "      <th>9</th>\n",
       "      <td>Jenissej</td>\n",
       "      <td>4092.0</td>\n",
       "      <td>R</td>\n",
       "      <td>Russia</td>\n",
       "    </tr>\n",
       "  </tbody>\n",
       "</table>\n",
       "</div>"
      ],
      "text/plain": [
       "      River  Length     Country Code        Country\n",
       "0  Amazonas  6448.0         CO BR PE       Multiple\n",
       "1   Jangtse  6380.0               CN          China\n",
       "2   Hwangho  4845.0               CN          China\n",
       "3      Lena  4400.0                R         Russia\n",
       "4   Akagera  4374.0      EAT RWA EAU       Multiple\n",
       "5    Mekong  4350.0  CN LAO THA K VN       Multiple\n",
       "6   Irtysch  4248.0         R KAZ CN       Multiple\n",
       "7     Niger  4184.0    RMM RN WAN RG       Multiple\n",
       "8  Missouri  4130.0              USA  United States\n",
       "9  Jenissej  4092.0                R         Russia"
      ]
     },
     "execution_count": 54,
     "metadata": {},
     "output_type": "execute_result"
    }
   ],
   "source": [
    "riverSorted1= riverSorted.merge(CountryTally, how='left', left_on=1, right_on=0)\n",
    "riverSorted1['0_y']=riverSorted1[1]\n",
    "riverSorted1\n",
    "\n",
    "del riverSorted1[1]\n",
    "del riverSorted1['1_x']\n",
    "riverSorted1.columns= ['River', 'Length', 'Country Code', 'Country']\n",
    "riverSorted1= riverSorted1.fillna('Multiple')\n",
    "riverSorted1.iloc[0:10]"
   ]
  },
  {
   "cell_type": "code",
   "execution_count": 55,
   "metadata": {
    "collapsed": false
   },
   "outputs": [
    {
     "data": {
      "text/plain": [
       "River           Amazonas\n",
       "Length              6448\n",
       "Country Code    CO BR PE\n",
       "Country         Multiple\n",
       "Name: 0, dtype: object"
      ]
     },
     "execution_count": 55,
     "metadata": {},
     "output_type": "execute_result"
    }
   ],
   "source": [
    "riverSorted1.iloc[0] # longest river"
   ]
  },
  {
   "cell_type": "markdown",
   "metadata": {},
   "source": [
    "## b) largest lake "
   ]
  },
  {
   "cell_type": "code",
   "execution_count": 56,
   "metadata": {
    "collapsed": false
   },
   "outputs": [
    {
     "data": {
      "text/html": [
       "<div>\n",
       "<table border=\"1\" class=\"dataframe\">\n",
       "  <thead>\n",
       "    <tr style=\"text-align: right;\">\n",
       "      <th></th>\n",
       "      <th>0</th>\n",
       "      <th>1</th>\n",
       "      <th>2</th>\n",
       "    </tr>\n",
       "  </thead>\n",
       "  <tbody>\n",
       "    <tr>\n",
       "      <th>0</th>\n",
       "      <td>Inari</td>\n",
       "      <td>SF</td>\n",
       "      <td>1040.0</td>\n",
       "    </tr>\n",
       "    <tr>\n",
       "      <th>1</th>\n",
       "      <td>Oulujaervi</td>\n",
       "      <td>SF</td>\n",
       "      <td>928.0</td>\n",
       "    </tr>\n",
       "    <tr>\n",
       "      <th>2</th>\n",
       "      <td>Kallavesi</td>\n",
       "      <td>SF</td>\n",
       "      <td>472.0</td>\n",
       "    </tr>\n",
       "    <tr>\n",
       "      <th>3</th>\n",
       "      <td>Saimaa</td>\n",
       "      <td>SF</td>\n",
       "      <td>4370.0</td>\n",
       "    </tr>\n",
       "    <tr>\n",
       "      <th>4</th>\n",
       "      <td>Paeijaenne</td>\n",
       "      <td>SF</td>\n",
       "      <td>1118.0</td>\n",
       "    </tr>\n",
       "    <tr>\n",
       "      <th>5</th>\n",
       "      <td>Mjoesa-See</td>\n",
       "      <td>N</td>\n",
       "      <td>368.0</td>\n",
       "    </tr>\n",
       "    <tr>\n",
       "      <th>6</th>\n",
       "      <td>Storuman</td>\n",
       "      <td>S</td>\n",
       "      <td>173.0</td>\n",
       "    </tr>\n",
       "    <tr>\n",
       "      <th>7</th>\n",
       "      <td>Siljan</td>\n",
       "      <td>S</td>\n",
       "      <td>290.0</td>\n",
       "    </tr>\n",
       "    <tr>\n",
       "      <th>8</th>\n",
       "      <td>Maelaren</td>\n",
       "      <td>S</td>\n",
       "      <td>1140.0</td>\n",
       "    </tr>\n",
       "    <tr>\n",
       "      <th>9</th>\n",
       "      <td>Vaenern</td>\n",
       "      <td>S</td>\n",
       "      <td>5648.0</td>\n",
       "    </tr>\n",
       "  </tbody>\n",
       "</table>\n",
       "</div>"
      ],
      "text/plain": [
       "            0   1       2\n",
       "0       Inari  SF  1040.0\n",
       "1  Oulujaervi  SF   928.0\n",
       "2   Kallavesi  SF   472.0\n",
       "3      Saimaa  SF  4370.0\n",
       "4  Paeijaenne  SF  1118.0\n",
       "5  Mjoesa-See   N   368.0\n",
       "6    Storuman   S   173.0\n",
       "7      Siljan   S   290.0\n",
       "8    Maelaren   S  1140.0\n",
       "9     Vaenern   S  5648.0"
      ]
     },
     "execution_count": 56,
     "metadata": {},
     "output_type": "execute_result"
    }
   ],
   "source": [
    "import pandas as pd\n",
    "nameLake=[]\n",
    "countryLake=[]\n",
    "areaLake=[]\n",
    "for element in document.iterfind('lake'):\n",
    "    nameLake.append(element.find('name').text)\n",
    "    temp= element.attrib\n",
    "    countryLake.append(temp['country'])\n",
    "    for subelement in element.iter('area'):\n",
    "        areaLake.append(float(subelement.text))\n",
    "#name\n",
    "#country\n",
    "#area\n",
    "nameLake= pd.Series(nameLake)\n",
    "countryLake= pd.Series(countryLake)\n",
    "areaLake= pd.Series(areaLake)\n",
    "\n",
    "lake= pd.concat([nameLake, countryLake, areaLake], axis=1 )\n",
    "lake.iloc[0:10]"
   ]
  },
  {
   "cell_type": "code",
   "execution_count": 58,
   "metadata": {
    "collapsed": false
   },
   "outputs": [
    {
     "data": {
      "text/html": [
       "<div>\n",
       "<table border=\"1\" class=\"dataframe\">\n",
       "  <thead>\n",
       "    <tr style=\"text-align: right;\">\n",
       "      <th></th>\n",
       "      <th>0</th>\n",
       "      <th>1</th>\n",
       "      <th>2</th>\n",
       "    </tr>\n",
       "  </thead>\n",
       "  <tbody>\n",
       "    <tr>\n",
       "      <th>0</th>\n",
       "      <td>Caspian Sea</td>\n",
       "      <td>R AZ KAZ IR TM</td>\n",
       "      <td>386400.0</td>\n",
       "    </tr>\n",
       "    <tr>\n",
       "      <th>1</th>\n",
       "      <td>Lake Manitou</td>\n",
       "      <td>CDN</td>\n",
       "      <td>82103.0</td>\n",
       "    </tr>\n",
       "    <tr>\n",
       "      <th>2</th>\n",
       "      <td>Rutanzige/Eduardsee</td>\n",
       "      <td>ZRE EAU</td>\n",
       "      <td>68870.0</td>\n",
       "    </tr>\n",
       "    <tr>\n",
       "      <th>3</th>\n",
       "      <td>Lake Ontario</td>\n",
       "      <td>CDN USA</td>\n",
       "      <td>59600.0</td>\n",
       "    </tr>\n",
       "    <tr>\n",
       "      <th>4</th>\n",
       "      <td>Lake Huron</td>\n",
       "      <td>CDN USA</td>\n",
       "      <td>57800.0</td>\n",
       "    </tr>\n",
       "    <tr>\n",
       "      <th>5</th>\n",
       "      <td>Dead Sea</td>\n",
       "      <td>IL JOR WEST</td>\n",
       "      <td>41650.0</td>\n",
       "    </tr>\n",
       "    <tr>\n",
       "      <th>6</th>\n",
       "      <td>Lake Victoria</td>\n",
       "      <td>EAT EAK EAU</td>\n",
       "      <td>32893.0</td>\n",
       "    </tr>\n",
       "    <tr>\n",
       "      <th>7</th>\n",
       "      <td>Etoscha Salt Pan</td>\n",
       "      <td>NAM</td>\n",
       "      <td>31792.0</td>\n",
       "    </tr>\n",
       "    <tr>\n",
       "      <th>8</th>\n",
       "      <td>Ozero Baikal</td>\n",
       "      <td>R</td>\n",
       "      <td>31492.0</td>\n",
       "    </tr>\n",
       "    <tr>\n",
       "      <th>9</th>\n",
       "      <td>Lake Eyasi</td>\n",
       "      <td>EAT</td>\n",
       "      <td>29600.0</td>\n",
       "    </tr>\n",
       "  </tbody>\n",
       "</table>\n",
       "</div>"
      ],
      "text/plain": [
       "                     0               1         2\n",
       "0          Caspian Sea  R AZ KAZ IR TM  386400.0\n",
       "1         Lake Manitou             CDN   82103.0\n",
       "2  Rutanzige/Eduardsee         ZRE EAU   68870.0\n",
       "3         Lake Ontario         CDN USA   59600.0\n",
       "4           Lake Huron         CDN USA   57800.0\n",
       "5             Dead Sea     IL JOR WEST   41650.0\n",
       "6        Lake Victoria     EAT EAK EAU   32893.0\n",
       "7     Etoscha Salt Pan             NAM   31792.0\n",
       "8         Ozero Baikal               R   31492.0\n",
       "9           Lake Eyasi             EAT   29600.0"
      ]
     },
     "execution_count": 58,
     "metadata": {},
     "output_type": "execute_result"
    }
   ],
   "source": [
    "lakeSorted= lake.fillna(0)\n",
    "lakeSorted=lakeSorted.sort_values(by=2, ascending=False)\n",
    "lakeSorted\n",
    "\n",
    "lakeSorted= lakeSorted.reset_index()\n",
    "del lakeSorted['index']\n",
    "lakeSorted.iloc[0:10]"
   ]
  },
  {
   "cell_type": "code",
   "execution_count": 59,
   "metadata": {
    "collapsed": false
   },
   "outputs": [
    {
     "data": {
      "text/html": [
       "<div>\n",
       "<table border=\"1\" class=\"dataframe\">\n",
       "  <thead>\n",
       "    <tr style=\"text-align: right;\">\n",
       "      <th></th>\n",
       "      <th>Lake</th>\n",
       "      <th>Area</th>\n",
       "      <th>Country Code</th>\n",
       "      <th>Country</th>\n",
       "    </tr>\n",
       "  </thead>\n",
       "  <tbody>\n",
       "    <tr>\n",
       "      <th>0</th>\n",
       "      <td>Caspian Sea</td>\n",
       "      <td>386400.0</td>\n",
       "      <td>R AZ KAZ IR TM</td>\n",
       "      <td>Multiple</td>\n",
       "    </tr>\n",
       "    <tr>\n",
       "      <th>1</th>\n",
       "      <td>Lake Manitou</td>\n",
       "      <td>82103.0</td>\n",
       "      <td>CDN</td>\n",
       "      <td>Canada</td>\n",
       "    </tr>\n",
       "    <tr>\n",
       "      <th>2</th>\n",
       "      <td>Rutanzige/Eduardsee</td>\n",
       "      <td>68870.0</td>\n",
       "      <td>ZRE EAU</td>\n",
       "      <td>Multiple</td>\n",
       "    </tr>\n",
       "    <tr>\n",
       "      <th>3</th>\n",
       "      <td>Lake Ontario</td>\n",
       "      <td>59600.0</td>\n",
       "      <td>CDN USA</td>\n",
       "      <td>Multiple</td>\n",
       "    </tr>\n",
       "    <tr>\n",
       "      <th>4</th>\n",
       "      <td>Lake Huron</td>\n",
       "      <td>57800.0</td>\n",
       "      <td>CDN USA</td>\n",
       "      <td>Multiple</td>\n",
       "    </tr>\n",
       "    <tr>\n",
       "      <th>5</th>\n",
       "      <td>Dead Sea</td>\n",
       "      <td>41650.0</td>\n",
       "      <td>IL JOR WEST</td>\n",
       "      <td>Multiple</td>\n",
       "    </tr>\n",
       "    <tr>\n",
       "      <th>6</th>\n",
       "      <td>Lake Victoria</td>\n",
       "      <td>32893.0</td>\n",
       "      <td>EAT EAK EAU</td>\n",
       "      <td>Multiple</td>\n",
       "    </tr>\n",
       "    <tr>\n",
       "      <th>7</th>\n",
       "      <td>Etoscha Salt Pan</td>\n",
       "      <td>31792.0</td>\n",
       "      <td>NAM</td>\n",
       "      <td>Namibia</td>\n",
       "    </tr>\n",
       "    <tr>\n",
       "      <th>8</th>\n",
       "      <td>Ozero Baikal</td>\n",
       "      <td>31492.0</td>\n",
       "      <td>R</td>\n",
       "      <td>Russia</td>\n",
       "    </tr>\n",
       "    <tr>\n",
       "      <th>9</th>\n",
       "      <td>Lake Eyasi</td>\n",
       "      <td>29600.0</td>\n",
       "      <td>EAT</td>\n",
       "      <td>Tanzania</td>\n",
       "    </tr>\n",
       "  </tbody>\n",
       "</table>\n",
       "</div>"
      ],
      "text/plain": [
       "                  Lake      Area    Country Code   Country\n",
       "0          Caspian Sea  386400.0  R AZ KAZ IR TM  Multiple\n",
       "1         Lake Manitou   82103.0             CDN    Canada\n",
       "2  Rutanzige/Eduardsee   68870.0         ZRE EAU  Multiple\n",
       "3         Lake Ontario   59600.0         CDN USA  Multiple\n",
       "4           Lake Huron   57800.0         CDN USA  Multiple\n",
       "5             Dead Sea   41650.0     IL JOR WEST  Multiple\n",
       "6        Lake Victoria   32893.0     EAT EAK EAU  Multiple\n",
       "7     Etoscha Salt Pan   31792.0             NAM   Namibia\n",
       "8         Ozero Baikal   31492.0               R    Russia\n",
       "9           Lake Eyasi   29600.0             EAT  Tanzania"
      ]
     },
     "execution_count": 59,
     "metadata": {},
     "output_type": "execute_result"
    }
   ],
   "source": [
    "lakeSorted1= lakeSorted.merge(CountryTally, how='left', left_on=1, right_on=0)\n",
    "#lakeSorted1\n",
    "lakeSorted1['0_y']= lakeSorted1[1]\n",
    "del lakeSorted1[1]\n",
    "del lakeSorted1['1_x']\n",
    "lakeSorted1.columns= ['Lake', \"Area\", \"Country Code\", 'Country']\n",
    "lakeSorted1= lakeSorted1.fillna('Multiple')\n",
    "lakeSorted1.iloc[0:10]"
   ]
  },
  {
   "cell_type": "code",
   "execution_count": 60,
   "metadata": {
    "collapsed": false
   },
   "outputs": [
    {
     "data": {
      "text/plain": [
       "Lake               Caspian Sea\n",
       "Area                    386400\n",
       "Country Code    R AZ KAZ IR TM\n",
       "Country               Multiple\n",
       "Name: 0, dtype: object"
      ]
     },
     "execution_count": 60,
     "metadata": {},
     "output_type": "execute_result"
    }
   ],
   "source": [
    "lakeSorted1.iloc[0] #  largest lake "
   ]
  },
  {
   "cell_type": "markdown",
   "metadata": {},
   "source": [
    "## c) airport at highest elevation"
   ]
  },
  {
   "cell_type": "code",
   "execution_count": 61,
   "metadata": {
    "collapsed": false
   },
   "outputs": [
    {
     "data": {
      "text/html": [
       "<div>\n",
       "<table border=\"1\" class=\"dataframe\">\n",
       "  <thead>\n",
       "    <tr style=\"text-align: right;\">\n",
       "      <th></th>\n",
       "      <th>0</th>\n",
       "      <th>1</th>\n",
       "      <th>2</th>\n",
       "    </tr>\n",
       "  </thead>\n",
       "  <tbody>\n",
       "    <tr>\n",
       "      <th>0</th>\n",
       "      <td>Herat</td>\n",
       "      <td>AFG</td>\n",
       "      <td>977.0</td>\n",
       "    </tr>\n",
       "    <tr>\n",
       "      <th>1</th>\n",
       "      <td>Kabul Intl</td>\n",
       "      <td>AFG</td>\n",
       "      <td>1792.0</td>\n",
       "    </tr>\n",
       "    <tr>\n",
       "      <th>2</th>\n",
       "      <td>Tirana Rinas</td>\n",
       "      <td>AL</td>\n",
       "      <td>38.0</td>\n",
       "    </tr>\n",
       "    <tr>\n",
       "      <th>3</th>\n",
       "      <td>Cheikh Larbi Tebessi</td>\n",
       "      <td>DZ</td>\n",
       "      <td>811.0</td>\n",
       "    </tr>\n",
       "    <tr>\n",
       "      <th>4</th>\n",
       "      <td>Batna Airport</td>\n",
       "      <td>DZ</td>\n",
       "      <td>822.0</td>\n",
       "    </tr>\n",
       "    <tr>\n",
       "      <th>5</th>\n",
       "      <td>Soummam</td>\n",
       "      <td>DZ</td>\n",
       "      <td>6.0</td>\n",
       "    </tr>\n",
       "    <tr>\n",
       "      <th>6</th>\n",
       "      <td>Tamanrasset</td>\n",
       "      <td>DZ</td>\n",
       "      <td>1377.0</td>\n",
       "    </tr>\n",
       "    <tr>\n",
       "      <th>7</th>\n",
       "      <td>Biskra</td>\n",
       "      <td>DZ</td>\n",
       "      <td>88.0</td>\n",
       "    </tr>\n",
       "    <tr>\n",
       "      <th>8</th>\n",
       "      <td>Mohamed Boudiaf Intl</td>\n",
       "      <td>DZ</td>\n",
       "      <td>691.0</td>\n",
       "    </tr>\n",
       "    <tr>\n",
       "      <th>9</th>\n",
       "      <td>Ain Arnat Airport</td>\n",
       "      <td>DZ</td>\n",
       "      <td>1024.0</td>\n",
       "    </tr>\n",
       "  </tbody>\n",
       "</table>\n",
       "</div>"
      ],
      "text/plain": [
       "                      0    1       2\n",
       "0                 Herat  AFG   977.0\n",
       "1            Kabul Intl  AFG  1792.0\n",
       "2          Tirana Rinas   AL    38.0\n",
       "3  Cheikh Larbi Tebessi   DZ   811.0\n",
       "4         Batna Airport   DZ   822.0\n",
       "5               Soummam   DZ     6.0\n",
       "6           Tamanrasset   DZ  1377.0\n",
       "7                Biskra   DZ    88.0\n",
       "8  Mohamed Boudiaf Intl   DZ   691.0\n",
       "9     Ain Arnat Airport   DZ  1024.0"
      ]
     },
     "execution_count": 61,
     "metadata": {},
     "output_type": "execute_result"
    }
   ],
   "source": [
    "import pandas as pd\n",
    "nameAirport=[]\n",
    "countryAirport=[]\n",
    "elevationAirport=[]\n",
    "for element in document.iterfind('airport'):\n",
    "    nameAirport.append(element.find('name').text)\n",
    "    temp= element.attrib\n",
    "    countryAirport.append(temp['country'])\n",
    "    for subelement in element.iter('elevation'):\n",
    "        elevationAirport.append(subelement.text)\n",
    "#name\n",
    "#country\n",
    "#area\n",
    "nameAirport= pd.Series(nameAirport)\n",
    "countryAirport= pd.Series(countryAirport)\n",
    "elevationAirport= pd.Series(elevationAirport)\n",
    "elevationAirport=elevationAirport.astype(float)\n",
    "Airport= pd.concat([nameAirport, countryAirport, elevationAirport], axis=1 )\n",
    "Airport.iloc[0:10]"
   ]
  },
  {
   "cell_type": "code",
   "execution_count": 62,
   "metadata": {
    "collapsed": false
   },
   "outputs": [
    {
     "data": {
      "text/html": [
       "<div>\n",
       "<table border=\"1\" class=\"dataframe\">\n",
       "  <thead>\n",
       "    <tr style=\"text-align: right;\">\n",
       "      <th></th>\n",
       "      <th>0</th>\n",
       "      <th>1</th>\n",
       "      <th>2</th>\n",
       "    </tr>\n",
       "  </thead>\n",
       "  <tbody>\n",
       "    <tr>\n",
       "      <th>0</th>\n",
       "      <td>El Alto Intl</td>\n",
       "      <td>BOL</td>\n",
       "      <td>4063.0</td>\n",
       "    </tr>\n",
       "    <tr>\n",
       "      <th>1</th>\n",
       "      <td>Lhasa-Gonggar</td>\n",
       "      <td>CN</td>\n",
       "      <td>4005.0</td>\n",
       "    </tr>\n",
       "    <tr>\n",
       "      <th>2</th>\n",
       "      <td>Yushu Batang</td>\n",
       "      <td>CN</td>\n",
       "      <td>3963.0</td>\n",
       "    </tr>\n",
       "    <tr>\n",
       "      <th>3</th>\n",
       "      <td>Juliaca</td>\n",
       "      <td>PE</td>\n",
       "      <td>3827.0</td>\n",
       "    </tr>\n",
       "    <tr>\n",
       "      <th>4</th>\n",
       "      <td>Teniente Alejandro Velasco Astete Intl</td>\n",
       "      <td>PE</td>\n",
       "      <td>3311.0</td>\n",
       "    </tr>\n",
       "    <tr>\n",
       "      <th>5</th>\n",
       "      <td>Juana Azurduy De Padilla</td>\n",
       "      <td>BOL</td>\n",
       "      <td>2905.0</td>\n",
       "    </tr>\n",
       "    <tr>\n",
       "      <th>6</th>\n",
       "      <td>Mariscal Sucre Intl</td>\n",
       "      <td>EC</td>\n",
       "      <td>2813.0</td>\n",
       "    </tr>\n",
       "    <tr>\n",
       "      <th>7</th>\n",
       "      <td>Coronel Fap Alfredo Mendivil Duarte</td>\n",
       "      <td>PE</td>\n",
       "      <td>2719.0</td>\n",
       "    </tr>\n",
       "    <tr>\n",
       "      <th>8</th>\n",
       "      <td>Mayor General FAP Armando Revoredo Iglesias Ai...</td>\n",
       "      <td>PE</td>\n",
       "      <td>2677.0</td>\n",
       "    </tr>\n",
       "    <tr>\n",
       "      <th>9</th>\n",
       "      <td>Licenciado Adolfo Lopez Mateos Intl</td>\n",
       "      <td>MEX</td>\n",
       "      <td>2581.0</td>\n",
       "    </tr>\n",
       "  </tbody>\n",
       "</table>\n",
       "</div>"
      ],
      "text/plain": [
       "                                                   0    1       2\n",
       "0                                       El Alto Intl  BOL  4063.0\n",
       "1                                      Lhasa-Gonggar   CN  4005.0\n",
       "2                                       Yushu Batang   CN  3963.0\n",
       "3                                            Juliaca   PE  3827.0\n",
       "4             Teniente Alejandro Velasco Astete Intl   PE  3311.0\n",
       "5                           Juana Azurduy De Padilla  BOL  2905.0\n",
       "6                                Mariscal Sucre Intl   EC  2813.0\n",
       "7                Coronel Fap Alfredo Mendivil Duarte   PE  2719.0\n",
       "8  Mayor General FAP Armando Revoredo Iglesias Ai...   PE  2677.0\n",
       "9                Licenciado Adolfo Lopez Mateos Intl  MEX  2581.0"
      ]
     },
     "execution_count": 62,
     "metadata": {},
     "output_type": "execute_result"
    }
   ],
   "source": [
    "AirportSorted= Airport.fillna(0)\n",
    "AirportSorted= AirportSorted.sort_values(by=2, ascending=False)\n",
    "AirportSorted\n",
    "\n",
    "AirportSorted= AirportSorted.reset_index()\n",
    "del AirportSorted['index']\n",
    "AirportSorted.iloc[0:10]"
   ]
  },
  {
   "cell_type": "code",
   "execution_count": 63,
   "metadata": {
    "collapsed": false
   },
   "outputs": [
    {
     "data": {
      "text/html": [
       "<div>\n",
       "<table border=\"1\" class=\"dataframe\">\n",
       "  <thead>\n",
       "    <tr style=\"text-align: right;\">\n",
       "      <th></th>\n",
       "      <th>Airport Name</th>\n",
       "      <th>Elevation</th>\n",
       "      <th>Country Code</th>\n",
       "      <th>Country</th>\n",
       "    </tr>\n",
       "  </thead>\n",
       "  <tbody>\n",
       "    <tr>\n",
       "      <th>0</th>\n",
       "      <td>El Alto Intl</td>\n",
       "      <td>4063.0</td>\n",
       "      <td>BOL</td>\n",
       "      <td>Bolivia</td>\n",
       "    </tr>\n",
       "    <tr>\n",
       "      <th>1</th>\n",
       "      <td>Lhasa-Gonggar</td>\n",
       "      <td>4005.0</td>\n",
       "      <td>CN</td>\n",
       "      <td>China</td>\n",
       "    </tr>\n",
       "    <tr>\n",
       "      <th>2</th>\n",
       "      <td>Yushu Batang</td>\n",
       "      <td>3963.0</td>\n",
       "      <td>CN</td>\n",
       "      <td>China</td>\n",
       "    </tr>\n",
       "    <tr>\n",
       "      <th>3</th>\n",
       "      <td>Juliaca</td>\n",
       "      <td>3827.0</td>\n",
       "      <td>PE</td>\n",
       "      <td>Peru</td>\n",
       "    </tr>\n",
       "    <tr>\n",
       "      <th>4</th>\n",
       "      <td>Teniente Alejandro Velasco Astete Intl</td>\n",
       "      <td>3311.0</td>\n",
       "      <td>PE</td>\n",
       "      <td>Peru</td>\n",
       "    </tr>\n",
       "    <tr>\n",
       "      <th>5</th>\n",
       "      <td>Juana Azurduy De Padilla</td>\n",
       "      <td>2905.0</td>\n",
       "      <td>BOL</td>\n",
       "      <td>Bolivia</td>\n",
       "    </tr>\n",
       "    <tr>\n",
       "      <th>6</th>\n",
       "      <td>Mariscal Sucre Intl</td>\n",
       "      <td>2813.0</td>\n",
       "      <td>EC</td>\n",
       "      <td>Ecuador</td>\n",
       "    </tr>\n",
       "    <tr>\n",
       "      <th>7</th>\n",
       "      <td>Coronel Fap Alfredo Mendivil Duarte</td>\n",
       "      <td>2719.0</td>\n",
       "      <td>PE</td>\n",
       "      <td>Peru</td>\n",
       "    </tr>\n",
       "    <tr>\n",
       "      <th>8</th>\n",
       "      <td>Mayor General FAP Armando Revoredo Iglesias Ai...</td>\n",
       "      <td>2677.0</td>\n",
       "      <td>PE</td>\n",
       "      <td>Peru</td>\n",
       "    </tr>\n",
       "    <tr>\n",
       "      <th>9</th>\n",
       "      <td>Licenciado Adolfo Lopez Mateos Intl</td>\n",
       "      <td>2581.0</td>\n",
       "      <td>MEX</td>\n",
       "      <td>Mexico</td>\n",
       "    </tr>\n",
       "  </tbody>\n",
       "</table>\n",
       "</div>"
      ],
      "text/plain": [
       "                                        Airport Name  Elevation Country Code  \\\n",
       "0                                       El Alto Intl     4063.0          BOL   \n",
       "1                                      Lhasa-Gonggar     4005.0           CN   \n",
       "2                                       Yushu Batang     3963.0           CN   \n",
       "3                                            Juliaca     3827.0           PE   \n",
       "4             Teniente Alejandro Velasco Astete Intl     3311.0           PE   \n",
       "5                           Juana Azurduy De Padilla     2905.0          BOL   \n",
       "6                                Mariscal Sucre Intl     2813.0           EC   \n",
       "7                Coronel Fap Alfredo Mendivil Duarte     2719.0           PE   \n",
       "8  Mayor General FAP Armando Revoredo Iglesias Ai...     2677.0           PE   \n",
       "9                Licenciado Adolfo Lopez Mateos Intl     2581.0          MEX   \n",
       "\n",
       "   Country  \n",
       "0  Bolivia  \n",
       "1    China  \n",
       "2    China  \n",
       "3     Peru  \n",
       "4     Peru  \n",
       "5  Bolivia  \n",
       "6  Ecuador  \n",
       "7     Peru  \n",
       "8     Peru  \n",
       "9   Mexico  "
      ]
     },
     "execution_count": 63,
     "metadata": {},
     "output_type": "execute_result"
    }
   ],
   "source": [
    "AirportSorted1= AirportSorted.merge(CountryTally, how='left', left_on=1, right_on=0)\n",
    "del AirportSorted1[1]\n",
    "del AirportSorted1['1_x']\n",
    "AirportSorted1.columns= ['Airport Name', 'Elevation', 'Country Code', 'Country']\n",
    "AirportSorted1.iloc[0:10]"
   ]
  },
  {
   "cell_type": "code",
   "execution_count": 64,
   "metadata": {
    "collapsed": false
   },
   "outputs": [
    {
     "data": {
      "text/plain": [
       "Airport Name    El Alto Intl\n",
       "Elevation               4063\n",
       "Country Code             BOL\n",
       "Country              Bolivia\n",
       "Name: 0, dtype: object"
      ]
     },
     "execution_count": 64,
     "metadata": {},
     "output_type": "execute_result"
    }
   ],
   "source": [
    "AirportSorted1.iloc[0] # airport at highest elevation"
   ]
  },
  {
   "cell_type": "code",
   "execution_count": null,
   "metadata": {
    "collapsed": true
   },
   "outputs": [],
   "source": []
  },
  {
   "cell_type": "code",
   "execution_count": null,
   "metadata": {
    "collapsed": true
   },
   "outputs": [],
   "source": []
  },
  {
   "cell_type": "code",
   "execution_count": null,
   "metadata": {
    "collapsed": true
   },
   "outputs": [],
   "source": []
  },
  {
   "cell_type": "code",
   "execution_count": null,
   "metadata": {
    "collapsed": true
   },
   "outputs": [],
   "source": []
  },
  {
   "cell_type": "code",
   "execution_count": null,
   "metadata": {
    "collapsed": true
   },
   "outputs": [],
   "source": []
  },
  {
   "cell_type": "code",
   "execution_count": null,
   "metadata": {
    "collapsed": true
   },
   "outputs": [],
   "source": []
  },
  {
   "cell_type": "code",
   "execution_count": null,
   "metadata": {
    "collapsed": true
   },
   "outputs": [],
   "source": []
  },
  {
   "cell_type": "code",
   "execution_count": null,
   "metadata": {
    "collapsed": true
   },
   "outputs": [],
   "source": []
  },
  {
   "cell_type": "code",
   "execution_count": null,
   "metadata": {
    "collapsed": true
   },
   "outputs": [],
   "source": []
  },
  {
   "cell_type": "code",
   "execution_count": null,
   "metadata": {
    "collapsed": true
   },
   "outputs": [],
   "source": []
  },
  {
   "cell_type": "code",
   "execution_count": null,
   "metadata": {
    "collapsed": true
   },
   "outputs": [],
   "source": []
  },
  {
   "cell_type": "code",
   "execution_count": null,
   "metadata": {
    "collapsed": true
   },
   "outputs": [],
   "source": []
  }
 ],
 "metadata": {
  "kernelspec": {
   "display_name": "Python 3",
   "language": "python",
   "name": "python3"
  },
  "language_info": {
   "codemirror_mode": {
    "name": "ipython",
    "version": 3
   },
   "file_extension": ".py",
   "mimetype": "text/x-python",
   "name": "python",
   "nbconvert_exporter": "python",
   "pygments_lexer": "ipython3",
   "version": "3.6.0"
  }
 },
 "nbformat": 4,
 "nbformat_minor": 0
}
